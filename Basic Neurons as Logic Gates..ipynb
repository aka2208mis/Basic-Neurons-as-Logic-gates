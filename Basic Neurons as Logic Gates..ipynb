{
 "cells": [
  {
   "cell_type": "code",
   "execution_count": 3,
   "id": "baf6f793",
   "metadata": {},
   "outputs": [],
   "source": [
    "import warnings \n",
    "warnings.simplefilter('ignore')\n",
    "import pandas as pd\n",
    "import numpy as np\n",
    "import matplotlib.pyplot as plt"
   ]
  },
  {
   "cell_type": "markdown",
   "id": "20c23d7a",
   "metadata": {},
   "source": [
    "### Sigmoid Function"
   ]
  },
  {
   "cell_type": "code",
   "execution_count": 4,
   "id": "7b258ae1",
   "metadata": {},
   "outputs": [],
   "source": [
    "def sigmoid(x):\n",
    "    return 1.0/ (1.0 + np.exp(-x))"
   ]
  },
  {
   "cell_type": "code",
   "execution_count": 9,
   "id": "ca067486",
   "metadata": {},
   "outputs": [
    {
     "data": {
      "image/png": "[encoded data removed]",
      "text/plain": [
       "<Figure size 1200x600 with 1 Axes>"
      ]
     },
     "metadata": {},
     "output_type": "display_data"
    }
   ],
   "source": [
    "#Plot the sigmoid function.\n",
    "vals = np.linspace(-20,20, num=100, dtype=np.float64)\n",
    "activation = sigmoid(vals)\n",
    "fig = plt.figure(figsize=(12,6))\n",
    "fig.suptitle('Sigmoid Function')\n",
    "plt.plot(vals, activation)\n",
    "plt.grid(True, which='both')\n",
    "plt.axhline(y=0, color='k')\n",
    "plt.axvline(x=0, color='k')\n",
    "plt.yticks()\n",
    "plt.ylim([-0.5, 1.5]);"
   ]
  },
  {
   "cell_type": "code",
   "execution_count": 10,
   "id": "20d347bb",
   "metadata": {},
   "outputs": [],
   "source": [
    "def logic_gate(w1, w2, b):\n",
    "    return lambda x1, x2: sigmoid(w1 * x1 + w2 * x2 + b)\n",
    "def test(gate):\n",
    "    for a, b in (0,0),(0,1),(1,0),(1,1):\n",
    "        print(\"{},{}: {}\".format(a, b, np.round(gate(a,b))))"
   ]
  },
  {
   "cell_type": "markdown",
   "id": "a06ee436",
   "metadata": {},
   "source": [
    "### OR GATE"
   ]
  },
  {
   "cell_type": "code",
   "execution_count": 11,
   "id": "f2fdcfbd",
   "metadata": {},
   "outputs": [
    {
     "name": "stdout",
     "output_type": "stream",
     "text": [
      "0,0: 0.0\n",
      "0,1: 1.0\n",
      "1,0: 1.0\n",
      "1,1: 1.0\n"
     ]
    }
   ],
   "source": [
    "or_gate = logic_gate(20, 20, -10)\n",
    "test(or_gate)"
   ]
  },
  {
   "cell_type": "markdown",
   "id": "44a5dcaa",
   "metadata": {},
   "source": [
    "### AND GATE"
   ]
  },
  {
   "cell_type": "code",
   "execution_count": 12,
   "id": "32a610f9",
   "metadata": {},
   "outputs": [
    {
     "name": "stdout",
     "output_type": "stream",
     "text": [
      "0,0: 0.0\n",
      "0,1: 0.0\n",
      "1,0: 0.0\n",
      "1,1: 1.0\n"
     ]
    }
   ],
   "source": [
    "w1 = 11\n",
    "w2 = 10\n",
    "b = -20\n",
    "and_gate = logic_gate(w1, w2, b)\n",
    "test(and_gate)"
   ]
  },
  {
   "cell_type": "markdown",
   "id": "2f8a0bf1",
   "metadata": {},
   "source": [
    "### NOR(Not OR) Gate"
   ]
  },
  {
   "cell_type": "code",
   "execution_count": 14,
   "id": "e0852ee0",
   "metadata": {},
   "outputs": [
    {
     "name": "stdout",
     "output_type": "stream",
     "text": [
      "0,0: 1.0\n",
      "0,1: 0.0\n",
      "1,0: 0.0\n",
      "1,1: 0.0\n"
     ]
    }
   ],
   "source": [
    "w1 = -20\n",
    "w2 = -20\n",
    "b = 10\n",
    "nor_gate = logic_gate(w1, w2, b)\n",
    "test(nor_gate)"
   ]
  },
  {
   "cell_type": "markdown",
   "id": "64719b77",
   "metadata": {},
   "source": [
    "### NAND(Not AND)Gate"
   ]
  },
  {
   "cell_type": "code",
   "execution_count": 18,
   "id": "31da9876",
   "metadata": {},
   "outputs": [
    {
     "name": "stdout",
     "output_type": "stream",
     "text": [
      "0,0: 1.0\n",
      "0,1: 1.0\n",
      "1,0: 1.0\n",
      "1,1: 0.0\n"
     ]
    }
   ],
   "source": [
    "w1 = -11\n",
    "w2 = -10\n",
    "b = 20\n",
    "nanad_gate = logic_gate(w1, w2, b)\n",
    "test(nanad_gate)"
   ]
  },
  {
   "cell_type": "markdown",
   "id": "df2081e7",
   "metadata": {},
   "source": [
    "### XOR (Exclusive Or) Gate"
   ]
  },
  {
   "cell_type": "code",
   "execution_count": 20,
   "id": "35ea072f",
   "metadata": {},
   "outputs": [
    {
     "name": "stdout",
     "output_type": "stream",
     "text": [
      "0,0: 0\n",
      "0,1: 1\n",
      "1,0: 1\n",
      "1,1: 0\n"
     ]
    }
   ],
   "source": [
    "def and_gate(a, b):\n",
    "    return a & b\n",
    "\n",
    "def or_gate(a, b):\n",
    "    return a | b\n",
    "\n",
    "def nand_gate(a, b):\n",
    "    return ~(a & b) & 1  # Ensuring the result is either 0 or 1\n",
    "\n",
    "def xor_gate(a, b):\n",
    "    c = or_gate(a, b)\n",
    "    d = nand_gate(a, b)\n",
    "    return and_gate(c, d)\n",
    "\n",
    "def test(gate):\n",
    "    for a, b in (0, 0), (0, 1), (1, 0), (1, 1):\n",
    "        print(\"{},{}: {}\".format(a, b, gate(a, b)))\n",
    "\n",
    "test(xor_gate)\n"
   ]
  },
  {
   "cell_type": "code",
   "execution_count": 21,
   "id": "6680509a",
   "metadata": {},
   "outputs": [
    {
     "name": "stdout",
     "output_type": "stream",
     "text": [
      "the matrix W_1\n",
      "\n",
      "[[ 2 -1  1  4]\n",
      " [-1  2 -3  1]\n",
      " [ 3 -2 -1  5]]\n",
      "------------------------------\n",
      "vector input x_in\n",
      "\n",
      "[0.5 0.8 0.2]\n",
      "------------------------------\n",
      "matrix input x_mat_in -- starts with the vector `x_in`\n",
      "\n",
      "[[0.5 0.8 0.2]\n",
      " [0.1 0.9 0.6]\n",
      " [0.2 0.2 0.3]\n",
      " [0.6 0.1 0.9]\n",
      " [0.5 0.5 0.4]\n",
      " [0.9 0.1 0.9]\n",
      " [0.1 0.8 0.7]]\n"
     ]
    }
   ],
   "source": [
    "W_1 = np.array([[2,-1,1,4],[-1,2,-3,1],[3,-2,-1,5]])\n",
    "W_2 = np.array([[3,1,-2,1],[-2,4,1,-4],[-1,-3,2,-5],[3,1,1,1]])\n",
    "W_3 = np.array([[-1,3,-2],[1,-1,-3],[3,-2,2],[1,2,1]])\n",
    "x_in = np.array([.5,.8,.2])\n",
    "x_mat_in = np.array([[.5,.8,.2],[.1,.9,.6],[.2,.2,.3],\n",
    "                     [.6,.1,.9],[.5,.5,.4],[.9,.1,.9],[.1,.8,.7]])\n",
    "\n",
    "def soft_max_vec(vec):\n",
    "    return np.exp(vec)/(np.sum(np.exp(vec)))\n",
    "\n",
    "def soft_max_mat(mat):\n",
    "    return np.exp(mat)/(np.sum(np.exp(mat),axis=1).reshape(-1,1))\n",
    "\n",
    "print('the matrix W_1\\n')\n",
    "print(W_1)\n",
    "print('-'*30)\n",
    "print('vector input x_in\\n')\n",
    "print(x_in)\n",
    "print ('-'*30)\n",
    "print('matrix input x_mat_in -- starts with the vector `x_in`\\n')\n",
    "print(x_mat_in)"
   ]
  },
  {
   "cell_type": "code",
   "execution_count": 22,
   "id": "61620865",
   "metadata": {},
   "outputs": [
    {
     "data": {
      "text/plain": [
       "array([ 0.8,  0.7, -2.1,  3.8])"
      ]
     },
     "execution_count": 22,
     "metadata": {},
     "output_type": "execute_result"
    }
   ],
   "source": [
    "z_2 = np.dot(x_in,W_1)\n",
    "z_2"
   ]
  },
  {
   "cell_type": "code",
   "execution_count": 23,
   "id": "f96bd5d0",
   "metadata": {},
   "outputs": [
    {
     "data": {
      "text/plain": [
       "array([0.68997448, 0.66818777, 0.10909682, 0.97811873])"
      ]
     },
     "execution_count": 23,
     "metadata": {},
     "output_type": "execute_result"
    }
   ],
   "source": [
    "a_2 = sigmoid(z_2)\n",
    "a_2"
   ]
  },
  {
   "cell_type": "code",
   "execution_count": 24,
   "id": "b13a9659",
   "metadata": {},
   "outputs": [
    {
     "data": {
      "text/plain": [
       "array([ 3.55880727,  4.01355384,  0.48455118, -1.55014198])"
      ]
     },
     "execution_count": 24,
     "metadata": {},
     "output_type": "execute_result"
    }
   ],
   "source": [
    "z_3 = np.dot(a_2,W_2)\n",
    "z_3"
   ]
  },
  {
   "cell_type": "code",
   "execution_count": 25,
   "id": "7cba1116",
   "metadata": {},
   "outputs": [
    {
     "data": {
      "text/plain": [
       "array([0.97231549, 0.98225163, 0.61882199, 0.17506576])"
      ]
     },
     "execution_count": 25,
     "metadata": {},
     "output_type": "execute_result"
    }
   ],
   "source": [
    "a_3 = sigmoid(z_3)\n",
    "a_3"
   ]
  },
  {
   "cell_type": "code",
   "execution_count": 26,
   "id": "40dabbbe",
   "metadata": {},
   "outputs": [
    {
     "data": {
      "text/plain": [
       "array([ 2.04146788,  1.04718238, -3.47867612])"
      ]
     },
     "execution_count": 26,
     "metadata": {},
     "output_type": "execute_result"
    }
   ],
   "source": [
    "z_4 = np.dot(a_3,W_3)\n",
    "z_4"
   ]
  },
  {
   "cell_type": "code",
   "execution_count": 27,
   "id": "53253107",
   "metadata": {},
   "outputs": [
    {
     "data": {
      "text/plain": [
       "array([0.72780576, 0.26927918, 0.00291506])"
      ]
     },
     "execution_count": 27,
     "metadata": {},
     "output_type": "execute_result"
    }
   ],
   "source": [
    "y_out = soft_max_vec(z_4)\n",
    "y_out"
   ]
  },
  {
   "cell_type": "code",
   "execution_count": 28,
   "id": "c87f567c",
   "metadata": {},
   "outputs": [],
   "source": [
    "def nn_comp_vec(x):\n",
    "    return soft_max_vec(sigmoid(sigmoid(np.dot(x,W_1)).dot(W_2)).dot(W_3))\n",
    "\n",
    "def nn_comp_mat(x):\n",
    "    return soft_max_mat(sigmoid(sigmoid(np.dot(x,W_1)).dot(W_2)).dot(W_3))"
   ]
  },
  {
   "cell_type": "code",
   "execution_count": 29,
   "id": "4fcb7a9f",
   "metadata": {},
   "outputs": [
    {
     "data": {
      "text/plain": [
       "array([0.72780576, 0.26927918, 0.00291506])"
      ]
     },
     "execution_count": 29,
     "metadata": {},
     "output_type": "execute_result"
    }
   ],
   "source": [
    "nn_comp_vec(x_in)"
   ]
  },
  {
   "cell_type": "code",
   "execution_count": 30,
   "id": "54be8f04",
   "metadata": {},
   "outputs": [
    {
     "data": {
      "text/plain": [
       "array([[0.72780576, 0.26927918, 0.00291506],\n",
       "       [0.62054212, 0.37682531, 0.00263257],\n",
       "       [0.69267581, 0.30361576, 0.00370844],\n",
       "       [0.36618794, 0.63016955, 0.00364252],\n",
       "       [0.57199769, 0.4251982 , 0.00280411],\n",
       "       [0.38373781, 0.61163804, 0.00462415],\n",
       "       [0.52510443, 0.4725011 , 0.00239447]])"
      ]
     },
     "execution_count": 30,
     "metadata": {},
     "output_type": "execute_result"
    }
   ],
   "source": [
    "nn_comp_mat(x_mat_in)"
   ]
  },
  {
   "cell_type": "code",
   "execution_count": null,
   "id": "243447e2",
   "metadata": {},
   "outputs": [],
   "source": []
  }
 ],
 "metadata": {
  "kernelspec": {
   "display_name": "Python 3 (ipykernel)",
   "language": "python",
   "name": "python3"
  },
  "language_info": {
   "codemirror_mode": {
    "name": "ipython",
    "version": 3
   },
   "file_extension": ".py",
   "mimetype": "text/x-python",
   "name": "python",
   "nbconvert_exporter": "python",
   "pygments_lexer": "ipython3",
   "version": "3.11.5"
  }
 },
 "nbformat": 4,
 "nbformat_minor": 5
}
